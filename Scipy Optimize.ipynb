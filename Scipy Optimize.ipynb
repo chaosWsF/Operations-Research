{
 "cells": [
  {
   "cell_type": "code",
   "execution_count": 1,
   "metadata": {},
   "outputs": [],
   "source": [
    "import numpy as np\n",
    "from scipy import optimize as op"
   ]
  },
  {
   "cell_type": "markdown",
   "metadata": {},
   "source": [
    "$f(x)=x(x-2)(x+2)^2$"
   ]
  },
  {
   "cell_type": "code",
   "execution_count": 2,
   "metadata": {},
   "outputs": [],
   "source": [
    "def f(x):\n",
    "    return x * (x - 2) * (x + 2) ** 2"
   ]
  },
  {
   "cell_type": "code",
   "execution_count": 5,
   "metadata": {},
   "outputs": [],
   "source": [
    "op.minimize_scalar?"
   ]
  },
  {
   "cell_type": "code",
   "execution_count": 6,
   "metadata": {},
   "outputs": [
    {
     "data": {
      "text/plain": [
       "     fun: -9.914949590828147\n",
       "    nfev: 15\n",
       "     nit: 11\n",
       " success: True\n",
       "       x: 1.2807764040333458"
      ]
     },
     "execution_count": 6,
     "metadata": {},
     "output_type": "execute_result"
    }
   ],
   "source": [
    "op.minimize_scalar(f)"
   ]
  },
  {
   "cell_type": "code",
   "execution_count": 8,
   "metadata": {},
   "outputs": [
    {
     "data": {
      "text/plain": [
       "-2.000000202597239"
      ]
     },
     "execution_count": 8,
     "metadata": {},
     "output_type": "execute_result"
    }
   ],
   "source": [
    "res = op.minimize_scalar(f, bounds=(-3, -1), method='bounded')\n",
    "res.x"
   ]
  },
  {
   "cell_type": "code",
   "execution_count": 9,
   "metadata": {},
   "outputs": [
    {
     "data": {
      "text/plain": [
       "3.2836517984978577e-13"
      ]
     },
     "execution_count": 9,
     "metadata": {},
     "output_type": "execute_result"
    }
   ],
   "source": [
    "res.fun"
   ]
  },
  {
   "cell_type": "markdown",
   "metadata": {},
   "source": [
    "$f(x)=f(x_0, x_1)=(x_0-1)^2+(x_1-\\cfrac{5}{2})^2$\n",
    "\n",
    "$x_0-2x_1+2\\geq0$\n",
    "\n",
    "$x_0 + 2x_1 - 6 \\leq 0$\n",
    "\n",
    "$x_0 - 2x_1 - 2 \\leq 0$\n",
    "\n",
    "$x_0, x_1 > 0$"
   ]
  },
  {
   "cell_type": "code",
   "execution_count": 10,
   "metadata": {},
   "outputs": [],
   "source": [
    "fun = lambda x: (x[0]-1)**2 + (x[1]-2.5)**2\n",
    "cons = ({'type':'ineq', 'fun': lambda x: x[0]-2*x[1]+2},\n",
    "        {'type':'ineq', 'fun': lambda x: -x[0]-2*x[1]+6},\n",
    "        {'type':'ineq', 'fun': lambda x: -x[0]+2*x[1]+2})\n",
    "bnds = ((0, None), (0, None))"
   ]
  },
  {
   "cell_type": "code",
   "execution_count": 11,
   "metadata": {},
   "outputs": [
    {
     "data": {
      "text/plain": [
       "     fun: 0.8000000011920985\n",
       "     jac: array([ 0.80000002, -1.59999999])\n",
       " message: 'Optimization terminated successfully.'\n",
       "    nfev: 13\n",
       "     nit: 3\n",
       "    njev: 3\n",
       "  status: 0\n",
       " success: True\n",
       "       x: array([1.4, 1.7])"
      ]
     },
     "execution_count": 11,
     "metadata": {},
     "output_type": "execute_result"
    }
   ],
   "source": [
    "op.minimize(fun, (2, 0), method='SLSQP', bounds=bnds, constraints=cons)"
   ]
  },
  {
   "cell_type": "code",
   "execution_count": 12,
   "metadata": {},
   "outputs": [],
   "source": [
    "op.minimize?"
   ]
  },
  {
   "cell_type": "markdown",
   "metadata": {},
   "source": [
    "_'jac' means derivatives, is only for several specific methods_"
   ]
  }
 ],
 "metadata": {
  "kernelspec": {
   "display_name": "Python 3",
   "language": "python",
   "name": "python3"
  },
  "language_info": {
   "codemirror_mode": {
    "name": "ipython",
    "version": 3
   },
   "file_extension": ".py",
   "mimetype": "text/x-python",
   "name": "python",
   "nbconvert_exporter": "python",
   "pygments_lexer": "ipython3",
   "version": "3.7.1"
  }
 },
 "nbformat": 4,
 "nbformat_minor": 2
}
