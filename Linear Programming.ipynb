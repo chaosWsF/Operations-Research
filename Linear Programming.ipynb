{
 "cells": [
  {
   "cell_type": "code",
   "execution_count": 2,
   "metadata": {},
   "outputs": [],
   "source": [
    "from scipy import optimize as op"
   ]
  },
  {
   "cell_type": "markdown",
   "metadata": {},
   "source": [
    "$\\max\\quad z=2x_1+3x_2-5x_3$\n",
    "\n",
    "s.t. $\\quad x_1+x_2+x_3=7$\n",
    "\n",
    "$\\quad\\quad 2x_1-5x_2+x_3\\geq10$\n",
    "\n",
    "$\\quad\\quad x_1+3x_2+x_3\\leq12$\n",
    "\n",
    "$\\quad\\quad x_1,x_2,x_3\\geq0$"
   ]
  },
  {
   "cell_type": "code",
   "execution_count": 7,
   "metadata": {},
   "outputs": [],
   "source": [
    "op.linprog?"
   ]
  },
  {
   "cell_type": "code",
   "execution_count": 8,
   "metadata": {},
   "outputs": [],
   "source": [
    "import numpy as np"
   ]
  },
  {
   "cell_type": "code",
   "execution_count": 11,
   "metadata": {},
   "outputs": [
    {
     "data": {
      "text/plain": [
       "     fun: -14.571428571428571\n",
       " message: 'Optimization terminated successfully.'\n",
       "     nit: 2\n",
       "   slack: array([3.85714286, 0.57142857, 6.42857143, 7.        , 0.        ])\n",
       "  status: 0\n",
       " success: True\n",
       "       x: array([6.42857143, 0.57142857, 0.        ])"
      ]
     },
     "execution_count": 11,
     "metadata": {},
     "output_type": "execute_result"
    }
   ],
   "source": [
    "c = np.array([2, 3, -5])\n",
    "A_ub = np.array([[-2, 5, -1],[1, 3, 1]])\n",
    "b_ub = np.array([-10, 12])\n",
    "A_eq = np.array([[1, 1, 1]])    # note one: input size is two by two\n",
    "b_eq = np.array([7])\n",
    "x1 = (0, 7)\n",
    "x2 = (0, 7)\n",
    "x3 = (0, 7)\n",
    "op.linprog(-c, A_ub, b_ub, A_eq, b_eq, bounds=(x1,x2,x3)) # note two: op is to solve minimize"
   ]
  },
  {
   "cell_type": "markdown",
   "metadata": {},
   "source": [
    "$\\quad\\quad z_{max}=14.57$"
   ]
  }
 ],
 "metadata": {
  "kernelspec": {
   "display_name": "Python 3",
   "language": "python",
   "name": "python3"
  },
  "language_info": {
   "codemirror_mode": {
    "name": "ipython",
    "version": 3
   },
   "file_extension": ".py",
   "mimetype": "text/x-python",
   "name": "python",
   "nbconvert_exporter": "python",
   "pygments_lexer": "ipython3",
   "version": "3.7.1"
  }
 },
 "nbformat": 4,
 "nbformat_minor": 2
}
